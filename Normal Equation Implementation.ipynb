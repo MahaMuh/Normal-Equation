{
 "cells": [
  {
   "cell_type": "markdown",
   "id": "ab81315d",
   "metadata": {},
   "source": [
    "### libraries"
   ]
  },
  {
   "cell_type": "code",
   "execution_count": 1,
   "id": "ad9dea62",
   "metadata": {},
   "outputs": [],
   "source": [
    "import sklearn\n",
    "import numpy as np\n",
    "import pandas as pd\n",
    "from numpy import asarray\n",
    "import matplotlib.pyplot as plt\n",
    "from sklearn.linear_model import Lasso\n",
    "from sklearn.linear_model import Ridge\n",
    "from sklearn.metrics import mean_squared_error\n",
    "from sklearn.linear_model import LinearRegression\n",
    "from sklearn.model_selection import train_test_split\n",
    "from sklearn.preprocessing import PolynomialFeatures"
   ]
  },
  {
   "cell_type": "markdown",
   "id": "c081ee34",
   "metadata": {},
   "source": [
    "## dataset "
   ]
  },
  {
   "cell_type": "code",
   "execution_count": 2,
   "id": "7bcbe469",
   "metadata": {},
   "outputs": [
    {
     "data": {
      "text/html": [
       "<div>\n",
       "<style scoped>\n",
       "    .dataframe tbody tr th:only-of-type {\n",
       "        vertical-align: middle;\n",
       "    }\n",
       "\n",
       "    .dataframe tbody tr th {\n",
       "        vertical-align: top;\n",
       "    }\n",
       "\n",
       "    .dataframe thead th {\n",
       "        text-align: right;\n",
       "    }\n",
       "</style>\n",
       "<table border=\"1\" class=\"dataframe\">\n",
       "  <thead>\n",
       "    <tr style=\"text-align: right;\">\n",
       "      <th></th>\n",
       "      <th>x1</th>\n",
       "      <th>x2</th>\n",
       "      <th>x3</th>\n",
       "      <th>y_label</th>\n",
       "    </tr>\n",
       "  </thead>\n",
       "  <tbody>\n",
       "    <tr>\n",
       "      <th>0</th>\n",
       "      <td>-100.838182</td>\n",
       "      <td>100.000000</td>\n",
       "      <td>0.000000</td>\n",
       "      <td>-6.908485e+06</td>\n",
       "    </tr>\n",
       "    <tr>\n",
       "      <th>1</th>\n",
       "      <td>-98.826004</td>\n",
       "      <td>101.202405</td>\n",
       "      <td>0.901804</td>\n",
       "      <td>-7.167624e+06</td>\n",
       "    </tr>\n",
       "    <tr>\n",
       "      <th>2</th>\n",
       "      <td>-98.627987</td>\n",
       "      <td>102.404810</td>\n",
       "      <td>1.803607</td>\n",
       "      <td>-7.429470e+06</td>\n",
       "    </tr>\n",
       "    <tr>\n",
       "      <th>3</th>\n",
       "      <td>-96.960173</td>\n",
       "      <td>103.607214</td>\n",
       "      <td>2.705411</td>\n",
       "      <td>-7.699765e+06</td>\n",
       "    </tr>\n",
       "    <tr>\n",
       "      <th>4</th>\n",
       "      <td>-97.190325</td>\n",
       "      <td>104.809619</td>\n",
       "      <td>3.607214</td>\n",
       "      <td>-7.972486e+06</td>\n",
       "    </tr>\n",
       "    <tr>\n",
       "      <th>...</th>\n",
       "      <td>...</td>\n",
       "      <td>...</td>\n",
       "      <td>...</td>\n",
       "      <td>...</td>\n",
       "    </tr>\n",
       "    <tr>\n",
       "      <th>495</th>\n",
       "      <td>294.786321</td>\n",
       "      <td>695.190381</td>\n",
       "      <td>446.392786</td>\n",
       "      <td>1.206979e+09</td>\n",
       "    </tr>\n",
       "    <tr>\n",
       "      <th>496</th>\n",
       "      <td>296.056099</td>\n",
       "      <td>696.392786</td>\n",
       "      <td>447.294589</td>\n",
       "      <td>1.216369e+09</td>\n",
       "    </tr>\n",
       "    <tr>\n",
       "      <th>497</th>\n",
       "      <td>297.526847</td>\n",
       "      <td>697.595190</td>\n",
       "      <td>448.196393</td>\n",
       "      <td>1.225805e+09</td>\n",
       "    </tr>\n",
       "    <tr>\n",
       "      <th>498</th>\n",
       "      <td>300.037521</td>\n",
       "      <td>698.797595</td>\n",
       "      <td>449.098196</td>\n",
       "      <td>1.235292e+09</td>\n",
       "    </tr>\n",
       "    <tr>\n",
       "      <th>499</th>\n",
       "      <td>299.092965</td>\n",
       "      <td>700.000000</td>\n",
       "      <td>450.000000</td>\n",
       "      <td>1.244805e+09</td>\n",
       "    </tr>\n",
       "  </tbody>\n",
       "</table>\n",
       "<p>500 rows × 4 columns</p>\n",
       "</div>"
      ],
      "text/plain": [
       "             x1          x2          x3       y_label\n",
       "0   -100.838182  100.000000    0.000000 -6.908485e+06\n",
       "1    -98.826004  101.202405    0.901804 -7.167624e+06\n",
       "2    -98.627987  102.404810    1.803607 -7.429470e+06\n",
       "3    -96.960173  103.607214    2.705411 -7.699765e+06\n",
       "4    -97.190325  104.809619    3.607214 -7.972486e+06\n",
       "..          ...         ...         ...           ...\n",
       "495  294.786321  695.190381  446.392786  1.206979e+09\n",
       "496  296.056099  696.392786  447.294589  1.216369e+09\n",
       "497  297.526847  697.595190  448.196393  1.225805e+09\n",
       "498  300.037521  698.797595  449.098196  1.235292e+09\n",
       "499  299.092965  700.000000  450.000000  1.244805e+09\n",
       "\n",
       "[500 rows x 4 columns]"
      ]
     },
     "execution_count": 2,
     "metadata": {},
     "output_type": "execute_result"
    }
   ],
   "source": [
    "dataset=pd.read_csv('dataset_q2_q4.csv')\n",
    "dataset"
   ]
  },
  {
   "cell_type": "code",
   "execution_count": 3,
   "id": "36402284",
   "metadata": {},
   "outputs": [],
   "source": [
    "X=dataset.drop('y_label', axis=1)\n",
    "Y=dataset['y_label']"
   ]
  },
  {
   "cell_type": "code",
   "execution_count": 4,
   "id": "eade87bc",
   "metadata": {},
   "outputs": [],
   "source": [
    "X=np.array(X)\n",
    "Y=np.array(Y)\n"
   ]
  },
  {
   "cell_type": "code",
   "execution_count": 5,
   "id": "1890205a",
   "metadata": {},
   "outputs": [],
   "source": [
    "X1=X[:,0]\n",
    "X2=X[:,1]\n",
    "X3=X[:,2]\n",
    "n=len(X1)\n",
    "X_bais=np.ones((n,1))"
   ]
  },
  {
   "cell_type": "code",
   "execution_count": 6,
   "id": "d75997ba",
   "metadata": {},
   "outputs": [
    {
     "data": {
      "text/plain": [
       "array([[   1.        , -100.83818183,  100.        ,    0.        ],\n",
       "       [   1.        ,  -98.82600411,  101.20240481,    0.90180361],\n",
       "       [   1.        ,  -98.62798713,  102.40480962,    1.80360721],\n",
       "       ...,\n",
       "       [   1.        ,  297.52684714,  697.59519038,  448.19639279],\n",
       "       [   1.        ,  300.03752102,  698.79759519,  449.09819639],\n",
       "       [   1.        ,  299.09296483,  700.        ,  450.        ]])"
      ]
     },
     "execution_count": 6,
     "metadata": {},
     "output_type": "execute_result"
    }
   ],
   "source": [
    "X_new=np.append(X_bais,X,axis=1) #X\n",
    "X_new"
   ]
  },
  {
   "cell_type": "code",
   "execution_count": 7,
   "id": "c612ff6e",
   "metadata": {},
   "outputs": [
    {
     "data": {
      "text/plain": [
       "array([[   1.        ,    1.        ,    1.        , ...,    1.        ,\n",
       "           1.        ,    1.        ],\n",
       "       [-100.83818183,  -98.82600411,  -98.62798713, ...,  297.52684714,\n",
       "         300.03752102,  299.09296483],\n",
       "       [ 100.        ,  101.20240481,  102.40480962, ...,  697.59519038,\n",
       "         698.79759519,  700.        ],\n",
       "       [   0.        ,    0.90180361,    1.80360721, ...,  448.19639279,\n",
       "         449.09819639,  450.        ]])"
      ]
     },
     "execution_count": 7,
     "metadata": {},
     "output_type": "execute_result"
    }
   ],
   "source": [
    "X_new_Transpose=np.transpose(X_new) #X.T\n",
    "X_new_Transpose"
   ]
  },
  {
   "cell_type": "code",
   "execution_count": 8,
   "id": "85266a05",
   "metadata": {},
   "outputs": [
    {
     "data": {
      "text/plain": [
       "array([[5.00000000e+02, 4.99774068e+04, 2.00000000e+05, 1.12500000e+05],\n",
       "       [4.99774068e+04, 1.16915049e+07, 3.00326271e+07, 1.87761648e+07],\n",
       "       [2.00000000e+05, 3.00326271e+07, 9.50601202e+07, 5.62950902e+07],\n",
       "       [1.12500000e+05, 1.87761648e+07, 5.62950902e+07, 3.37838176e+07]])"
      ]
     },
     "execution_count": 8,
     "metadata": {},
     "output_type": "execute_result"
    }
   ],
   "source": [
    "X_new_Transpose_dot_X_new=X_new_Transpose.dot(X_new) #X X.T\n",
    "X_new_Transpose_dot_X_new"
   ]
  },
  {
   "cell_type": "code",
   "execution_count": 9,
   "id": "afb460c1",
   "metadata": {},
   "outputs": [],
   "source": [
    "temp1=np.linalg.inv(X_new_Transpose_dot_X_new) #(X X.T) inverse\n",
    "temp2=X_new_Transpose.dot(Y) # X.T * Y"
   ]
  },
  {
   "cell_type": "code",
   "execution_count": 10,
   "id": "c7182694",
   "metadata": {},
   "outputs": [
    {
     "data": {
      "text/plain": [
       "array([-1.87904819e+09, -1.31837709e+07,  2.35929600e+06,  1.15343360e+07])"
      ]
     },
     "execution_count": 10,
     "metadata": {},
     "output_type": "execute_result"
    }
   ],
   "source": [
    "theta=temp1.dot(temp2) #(X X.T)invers * X.T * Y\n",
    "theta"
   ]
  },
  {
   "cell_type": "code",
   "execution_count": 11,
   "id": "d2123129",
   "metadata": {},
   "outputs": [
    {
     "name": "stdout",
     "output_type": "stream",
     "text": [
      "-1879048192.0 \n",
      " -13183770.853199005 \n",
      " 2359296.0 \n",
      " 11534336.0\n"
     ]
    }
   ],
   "source": [
    "theta_0=theta[0]\n",
    "theta_1=theta[1]\n",
    "theta_2=theta[2]\n",
    "theta_3=theta[3]\n",
    "print(theta_0,'\\n',theta_1,'\\n',theta_2,'\\n',theta_3)"
   ]
  },
  {
   "cell_type": "markdown",
   "id": "0a498591",
   "metadata": {},
   "source": [
    "## To check from Model"
   ]
  },
  {
   "cell_type": "code",
   "execution_count": 12,
   "id": "bf29bdb0",
   "metadata": {},
   "outputs": [],
   "source": [
    "def pred_value(theta_0,theta_1,theta_2,theta_3,X1,X2,X3):\n",
    "    # preparing each term of hypothises\n",
    "    term1=3*theta_1*X1**2\n",
    "    term2=theta_2*X2**3\n",
    "    term3=-theta_3*X2**3\n",
    "    term4=theta_2*theta_3*X3**3\n",
    "    \n",
    "    predict_value=term1+term2+term3+term4+theta_0              \n",
    "    #hypothises of linear regression(theta_0+theta_1*X1+theta_2*X2+theta_3*X3)\n",
    "    return predict_value"
   ]
  },
  {
   "cell_type": "code",
   "execution_count": 13,
   "id": "1bf9a3aa",
   "metadata": {},
   "outputs": [
    {
     "data": {
      "text/plain": [
       "-9579090200178.398"
      ]
     },
     "execution_count": 13,
     "metadata": {},
     "output_type": "execute_result"
    }
   ],
   "source": [
    "X1=-100.838182\n",
    "X2=100.000000\n",
    "X3=0.000000\n",
    "lable=pred_value(theta_0,theta_1,theta_2,theta_3,X1,X2,X3)\n",
    "lable"
   ]
  }
 ],
 "metadata": {
  "kernelspec": {
   "display_name": "Python 3",
   "language": "python",
   "name": "python3"
  },
  "language_info": {
   "codemirror_mode": {
    "name": "ipython",
    "version": 3
   },
   "file_extension": ".py",
   "mimetype": "text/x-python",
   "name": "python",
   "nbconvert_exporter": "python",
   "pygments_lexer": "ipython3",
   "version": "3.8.8"
  }
 },
 "nbformat": 4,
 "nbformat_minor": 5
}
